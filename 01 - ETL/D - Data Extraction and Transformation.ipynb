{
 "cells": [
  {
   "cell_type": "markdown",
   "id": "9fc3207c",
   "metadata": {},
   "source": [
    "## D - Data Extraction and Transformation - Personal Capstone Project"
   ]
  },
  {
   "cell_type": "markdown",
   "id": "512bb4e0",
   "metadata": {},
   "source": [
    "This notebook shows how to apply and combine the learned steps from previous labs to reach a specific output. The goal here is to extract the top 5 banks according to the market cap in USD. Then use the exchange rate API to find the exchange rate of the British Pound. Lastly, convert the market cap unit from USD to British Pound. The output should be the top 5 banks according to the market cap but this time in GBP instead of US dollars."
   ]
  },
  {
   "cell_type": "code",
   "execution_count": 1,
   "id": "ab70f1fa",
   "metadata": {},
   "outputs": [],
   "source": [
    "# Import necessary libraries\n",
    "import html5lib\n",
    "import requests\n",
    "import pandas as pd"
   ]
  },
  {
   "cell_type": "markdown",
   "id": "b316a7ed",
   "metadata": {},
   "source": [
    "### Step 1 - Webscrap the Data from Wikipedia "
   ]
  },
  {
   "cell_type": "code",
   "execution_count": 2,
   "id": "86ffd25d",
   "metadata": {},
   "outputs": [],
   "source": [
    "url = 'https://en.wikipedia.org/wiki/List_of_largest_banks'\n",
    "html_data = requests.get(url).text  #to get the html of the website"
   ]
  },
  {
   "cell_type": "code",
   "execution_count": 3,
   "id": "89a9c97e",
   "metadata": {},
   "outputs": [
    {
     "data": {
      "text/html": [
       "<div>\n",
       "<style scoped>\n",
       "    .dataframe tbody tr th:only-of-type {\n",
       "        vertical-align: middle;\n",
       "    }\n",
       "\n",
       "    .dataframe tbody tr th {\n",
       "        vertical-align: top;\n",
       "    }\n",
       "\n",
       "    .dataframe thead th {\n",
       "        text-align: right;\n",
       "    }\n",
       "</style>\n",
       "<table border=\"1\" class=\"dataframe\">\n",
       "  <thead>\n",
       "    <tr style=\"text-align: right;\">\n",
       "      <th></th>\n",
       "      <th>Rank</th>\n",
       "      <th>Bank name</th>\n",
       "      <th>Market cap(US$ billion)</th>\n",
       "    </tr>\n",
       "  </thead>\n",
       "  <tbody>\n",
       "    <tr>\n",
       "      <th>0</th>\n",
       "      <td>1</td>\n",
       "      <td>JPMorgan Chase</td>\n",
       "      <td>400.37[6]</td>\n",
       "    </tr>\n",
       "    <tr>\n",
       "      <th>1</th>\n",
       "      <td>2</td>\n",
       "      <td>Industrial and Commercial Bank of China</td>\n",
       "      <td>295.65</td>\n",
       "    </tr>\n",
       "    <tr>\n",
       "      <th>2</th>\n",
       "      <td>3</td>\n",
       "      <td>Bank of America</td>\n",
       "      <td>279.73</td>\n",
       "    </tr>\n",
       "    <tr>\n",
       "      <th>3</th>\n",
       "      <td>4</td>\n",
       "      <td>Wells Fargo</td>\n",
       "      <td>214.34</td>\n",
       "    </tr>\n",
       "    <tr>\n",
       "      <th>4</th>\n",
       "      <td>5</td>\n",
       "      <td>China Construction Bank</td>\n",
       "      <td>207.98</td>\n",
       "    </tr>\n",
       "  </tbody>\n",
       "</table>\n",
       "</div>"
      ],
      "text/plain": [
       "   Rank                                Bank name Market cap(US$ billion)\n",
       "0     1                           JPMorgan Chase               400.37[6]\n",
       "1     2  Industrial and Commercial Bank of China                  295.65\n",
       "2     3                          Bank of America                  279.73\n",
       "3     4                              Wells Fargo                  214.34\n",
       "4     5                  China Construction Bank                  207.98"
      ]
     },
     "execution_count": 3,
     "metadata": {},
     "output_type": "execute_result"
    }
   ],
   "source": [
    "dataframe_list = pd.read_html(url, flavor='bs4')\n",
    "banks_ranking = dataframe_list[3]\n",
    "banks_ranking.head()"
   ]
  },
  {
   "cell_type": "code",
   "execution_count": 4,
   "id": "2f8d52c3",
   "metadata": {},
   "outputs": [],
   "source": [
    "banks_ranking.iloc[0,2] = 400.37 # Remove the reference [6]"
   ]
  },
  {
   "cell_type": "code",
   "execution_count": 5,
   "id": "fffd1e0d",
   "metadata": {},
   "outputs": [
    {
     "data": {
      "text/html": [
       "<div>\n",
       "<style scoped>\n",
       "    .dataframe tbody tr th:only-of-type {\n",
       "        vertical-align: middle;\n",
       "    }\n",
       "\n",
       "    .dataframe tbody tr th {\n",
       "        vertical-align: top;\n",
       "    }\n",
       "\n",
       "    .dataframe thead th {\n",
       "        text-align: right;\n",
       "    }\n",
       "</style>\n",
       "<table border=\"1\" class=\"dataframe\">\n",
       "  <thead>\n",
       "    <tr style=\"text-align: right;\">\n",
       "      <th></th>\n",
       "      <th>Rank</th>\n",
       "      <th>Bank name</th>\n",
       "      <th>Market cap(US$ billion)</th>\n",
       "    </tr>\n",
       "  </thead>\n",
       "  <tbody>\n",
       "    <tr>\n",
       "      <th>0</th>\n",
       "      <td>1</td>\n",
       "      <td>JPMorgan Chase</td>\n",
       "      <td>400.37</td>\n",
       "    </tr>\n",
       "    <tr>\n",
       "      <th>1</th>\n",
       "      <td>2</td>\n",
       "      <td>Industrial and Commercial Bank of China</td>\n",
       "      <td>295.65</td>\n",
       "    </tr>\n",
       "    <tr>\n",
       "      <th>2</th>\n",
       "      <td>3</td>\n",
       "      <td>Bank of America</td>\n",
       "      <td>279.73</td>\n",
       "    </tr>\n",
       "    <tr>\n",
       "      <th>3</th>\n",
       "      <td>4</td>\n",
       "      <td>Wells Fargo</td>\n",
       "      <td>214.34</td>\n",
       "    </tr>\n",
       "    <tr>\n",
       "      <th>4</th>\n",
       "      <td>5</td>\n",
       "      <td>China Construction Bank</td>\n",
       "      <td>207.98</td>\n",
       "    </tr>\n",
       "  </tbody>\n",
       "</table>\n",
       "</div>"
      ],
      "text/plain": [
       "   Rank                                Bank name Market cap(US$ billion)\n",
       "0     1                           JPMorgan Chase                  400.37\n",
       "1     2  Industrial and Commercial Bank of China                  295.65\n",
       "2     3                          Bank of America                  279.73\n",
       "3     4                              Wells Fargo                  214.34\n",
       "4     5                  China Construction Bank                  207.98"
      ]
     },
     "execution_count": 5,
     "metadata": {},
     "output_type": "execute_result"
    }
   ],
   "source": [
    "banks_ranking.head()"
   ]
  },
  {
   "cell_type": "code",
   "execution_count": 6,
   "id": "857e2d4b",
   "metadata": {},
   "outputs": [
    {
     "data": {
      "text/html": [
       "<div>\n",
       "<style scoped>\n",
       "    .dataframe tbody tr th:only-of-type {\n",
       "        vertical-align: middle;\n",
       "    }\n",
       "\n",
       "    .dataframe tbody tr th {\n",
       "        vertical-align: top;\n",
       "    }\n",
       "\n",
       "    .dataframe thead th {\n",
       "        text-align: right;\n",
       "    }\n",
       "</style>\n",
       "<table border=\"1\" class=\"dataframe\">\n",
       "  <thead>\n",
       "    <tr style=\"text-align: right;\">\n",
       "      <th></th>\n",
       "      <th>rates</th>\n",
       "    </tr>\n",
       "  </thead>\n",
       "  <tbody>\n",
       "    <tr>\n",
       "      <th>AED</th>\n",
       "      <td>3.661804</td>\n",
       "    </tr>\n",
       "    <tr>\n",
       "      <th>AFN</th>\n",
       "      <td>88.783389</td>\n",
       "    </tr>\n",
       "    <tr>\n",
       "      <th>ALL</th>\n",
       "      <td>116.789016</td>\n",
       "    </tr>\n",
       "    <tr>\n",
       "      <th>AMD</th>\n",
       "      <td>417.244163</td>\n",
       "    </tr>\n",
       "    <tr>\n",
       "      <th>ANG</th>\n",
       "      <td>1.804621</td>\n",
       "    </tr>\n",
       "  </tbody>\n",
       "</table>\n",
       "</div>"
      ],
      "text/plain": [
       "          rates\n",
       "AED    3.661804\n",
       "AFN   88.783389\n",
       "ALL  116.789016\n",
       "AMD  417.244163\n",
       "ANG    1.804621"
      ]
     },
     "execution_count": 6,
     "metadata": {},
     "output_type": "execute_result"
    }
   ],
   "source": [
    "### - Step 2: Find the exchange rates for today\n",
    "url = \"https://api.apilayer.com/exchangerates_data/latest?base=EUR&apikey=73qhjmN9pymxALkF0hD0h5ySe4nh7HNs\" # Rates API\n",
    "html_data = requests.get(url) # the response will be json file\n",
    "currency_df = pd.DataFrame(html_data.json())\n",
    "currency_df.drop(['success','timestamp','date','base'], axis = 1, inplace = True)\n",
    "currency_df.head()"
   ]
  },
  {
   "cell_type": "markdown",
   "id": "e4f74593",
   "metadata": {},
   "source": [
    "### Step 3 - Convert the Unit of Market Cap from US$ Billion to UK£ Billion"
   ]
  },
  {
   "cell_type": "code",
   "execution_count": 7,
   "id": "c5ef4b0a",
   "metadata": {},
   "outputs": [
    {
     "data": {
      "text/plain": [
       "0.875993"
      ]
     },
     "execution_count": 7,
     "metadata": {},
     "output_type": "execute_result"
    }
   ],
   "source": [
    "GBP = currency_df.loc['GBP']\n",
    "GBP.astype(float)[0]"
   ]
  },
  {
   "cell_type": "code",
   "execution_count": 8,
   "id": "e7461eb6",
   "metadata": {},
   "outputs": [],
   "source": [
    "banks_ranking['Market cap(US$ billion)'] = banks_ranking['Market cap(US$ billion)'].astype(float)"
   ]
  },
  {
   "cell_type": "code",
   "execution_count": 9,
   "id": "5da9ebdb",
   "metadata": {},
   "outputs": [
    {
     "name": "stdout",
     "output_type": "stream",
     "text": [
      "<class 'pandas.core.frame.DataFrame'>\n",
      "RangeIndex: 50 entries, 0 to 49\n",
      "Data columns (total 3 columns):\n",
      " #   Column                   Non-Null Count  Dtype  \n",
      "---  ------                   --------------  -----  \n",
      " 0   Rank                     50 non-null     int64  \n",
      " 1   Bank name                50 non-null     object \n",
      " 2   Market cap(US$ billion)  50 non-null     float64\n",
      "dtypes: float64(1), int64(1), object(1)\n",
      "memory usage: 1.3+ KB\n"
     ]
    }
   ],
   "source": [
    "banks_ranking.info()"
   ]
  },
  {
   "cell_type": "code",
   "execution_count": 10,
   "id": "55443685",
   "metadata": {},
   "outputs": [
    {
     "data": {
      "text/html": [
       "<div>\n",
       "<style scoped>\n",
       "    .dataframe tbody tr th:only-of-type {\n",
       "        vertical-align: middle;\n",
       "    }\n",
       "\n",
       "    .dataframe tbody tr th {\n",
       "        vertical-align: top;\n",
       "    }\n",
       "\n",
       "    .dataframe thead th {\n",
       "        text-align: right;\n",
       "    }\n",
       "</style>\n",
       "<table border=\"1\" class=\"dataframe\">\n",
       "  <thead>\n",
       "    <tr style=\"text-align: right;\">\n",
       "      <th></th>\n",
       "      <th>Rank</th>\n",
       "      <th>Bank name</th>\n",
       "      <th>Market cap(US$ billion)</th>\n",
       "      <th>Market cap(UK£ Billion)</th>\n",
       "    </tr>\n",
       "  </thead>\n",
       "  <tbody>\n",
       "    <tr>\n",
       "      <th>0</th>\n",
       "      <td>1</td>\n",
       "      <td>JPMorgan Chase</td>\n",
       "      <td>400.37</td>\n",
       "      <td>350.72</td>\n",
       "    </tr>\n",
       "    <tr>\n",
       "      <th>1</th>\n",
       "      <td>2</td>\n",
       "      <td>Industrial and Commercial Bank of China</td>\n",
       "      <td>295.65</td>\n",
       "      <td>258.99</td>\n",
       "    </tr>\n",
       "    <tr>\n",
       "      <th>2</th>\n",
       "      <td>3</td>\n",
       "      <td>Bank of America</td>\n",
       "      <td>279.73</td>\n",
       "      <td>245.04</td>\n",
       "    </tr>\n",
       "    <tr>\n",
       "      <th>3</th>\n",
       "      <td>4</td>\n",
       "      <td>Wells Fargo</td>\n",
       "      <td>214.34</td>\n",
       "      <td>187.76</td>\n",
       "    </tr>\n",
       "    <tr>\n",
       "      <th>4</th>\n",
       "      <td>5</td>\n",
       "      <td>China Construction Bank</td>\n",
       "      <td>207.98</td>\n",
       "      <td>182.19</td>\n",
       "    </tr>\n",
       "  </tbody>\n",
       "</table>\n",
       "</div>"
      ],
      "text/plain": [
       "   Rank                                Bank name  Market cap(US$ billion)  \\\n",
       "0     1                           JPMorgan Chase                   400.37   \n",
       "1     2  Industrial and Commercial Bank of China                   295.65   \n",
       "2     3                          Bank of America                   279.73   \n",
       "3     4                              Wells Fargo                   214.34   \n",
       "4     5                  China Construction Bank                   207.98   \n",
       "\n",
       "   Market cap(UK£ Billion)  \n",
       "0                   350.72  \n",
       "1                   258.99  \n",
       "2                   245.04  \n",
       "3                   187.76  \n",
       "4                   182.19  "
      ]
     },
     "execution_count": 10,
     "metadata": {},
     "output_type": "execute_result"
    }
   ],
   "source": [
    "banks_ranking['Market cap(UK£ Billion)'] = round(banks_ranking['Market cap(US$ billion)']*GBP.astype(float)[0],2)\n",
    "banks_ranking.head()"
   ]
  }
 ],
 "metadata": {
  "kernelspec": {
   "display_name": "Python 3 (ipykernel)",
   "language": "python",
   "name": "python3"
  },
  "language_info": {
   "codemirror_mode": {
    "name": "ipython",
    "version": 3
   },
   "file_extension": ".py",
   "mimetype": "text/x-python",
   "name": "python",
   "nbconvert_exporter": "python",
   "pygments_lexer": "ipython3",
   "version": "3.9.12"
  }
 },
 "nbformat": 4,
 "nbformat_minor": 5
}
