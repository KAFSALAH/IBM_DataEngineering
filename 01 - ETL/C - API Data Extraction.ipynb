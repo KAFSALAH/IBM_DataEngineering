{
 "cells": [
  {
   "cell_type": "markdown",
   "metadata": {},
   "source": [
    "<p style=\"text-align:center\">\n",
    "    <a href=\"https://skills.network/?utm_medium=Exinfluencer&utm_source=Exinfluencer&utm_content=000026UJ&utm_term=10006555&utm_id=NA-SkillsNetwork-Channel-SkillsNetworkCoursesIBMDeveloperSkillsNetworkPY0221ENSkillsNetwork23455645-2022-01-01\" target=\"_blank\">\n",
    "    <img src=\"https://cf-courses-data.s3.us.cloud-object-storage.appdomain.cloud/assets/logos/SN_web_lightmode.png\" width=\"200\" alt=\"Skills Network Logo\"  />\n",
    "    </a>\n",
    "</p>\n"
   ]
  },
  {
   "cell_type": "markdown",
   "metadata": {},
   "source": [
    "## Data Engineering - Extract API Data\n"
   ]
  },
  {
   "cell_type": "markdown",
   "metadata": {},
   "source": [
    "Estimated time needed: **20** minutes\n"
   ]
  },
  {
   "cell_type": "markdown",
   "metadata": {},
   "source": [
    "## Objectives\n",
    "\n",
    "In this part you will:\n",
    "\n",
    "*   Collect exchange rate data using an API\n",
    "*   Store the data as a CSV\n"
   ]
  },
  {
   "cell_type": "markdown",
   "metadata": {},
   "source": [
    "For this lab, we are going to be using Python and several Python libraries. Some of these libraries might be installed in your lab environment or in SN Labs. Others may need to be installed by you. The cells below will install these libraries when executed.\n"
   ]
  },
  {
   "cell_type": "code",
   "execution_count": 1,
   "metadata": {},
   "outputs": [],
   "source": [
    "#!mamba install pandas==1.3.3 -y\n",
    "#!mamba install requests==2.26.0 -y"
   ]
  },
  {
   "cell_type": "markdown",
   "metadata": {},
   "source": [
    "## Imports\n",
    "\n",
    "Import any additional libraries you may need here.\n"
   ]
  },
  {
   "cell_type": "code",
   "execution_count": 2,
   "metadata": {},
   "outputs": [],
   "source": [
    "import requests\n",
    "import pandas as pd"
   ]
  },
  {
   "cell_type": "markdown",
   "metadata": {},
   "source": [
    "## Extract Data Using an API\n"
   ]
  },
  {
   "cell_type": "markdown",
   "metadata": {},
   "source": [
    "Using ExchangeRate-API we will extract currency exchange rate data. Use the below steps to get the access key and to get the data.\n",
    "\n",
    "1.  Open the url : [https://exchangeratesapi.io/](https://exchangeratesapi.io/?utm_medium=Exinfluencer&utm_source=Exinfluencer&utm_content=000026UJ&utm_term=10006555&utm_id=NA-SkillsNetwork-Channel-SkillsNetworkCoursesIBMDeveloperSkillsNetworkPY0221ENSkillsNetwork23455645-2022-01-01) and click on **Get Free API Key**.\n",
    "2.  Subscribe for Free plan and Sign-in with the Google Account.\n",
    "3.  Once the account is created you will be redirected to [https://apilayer.com](https://apilayer.com/?utm_medium=Exinfluencer&utm_source=Exinfluencer&utm_content=000026UJ&utm_term=10006555&utm_id=NA-SkillsNetwork-Channel-SkillsNetworkCoursesIBMDeveloperSkillsNetworkPY0221ENSkillsNetwork23455645-2022-01-01) website.\n",
    "4.  Now, click on the **user icon** and click **Account** as shown below:\n",
    "\n",
    "<img src=\"https://cf-courses-data.s3.us.cloud-object-storage.appdomain.cloud/IBMDeveloperSkillsNetwork-PY0221EN-SkillsNetwork/labs/module%206/Final%20Assignment/Images/account.png\"/>\n",
    "\n",
    "3.  Scroll down and you will get the API Key section. Copy the API key and use in the url in Question 1.\n"
   ]
  },
  {
   "cell_type": "markdown",
   "metadata": {},
   "source": [
    "### Call the API\n",
    "\n",
    "<b> Question 1</b> Using the `requests` library call the endpoint given above and save the text, remember the first few characters of the output:\n"
   ]
  },
  {
   "cell_type": "code",
   "execution_count": 3,
   "metadata": {},
   "outputs": [],
   "source": [
    "# Write your code here\n",
    "url = \"https://api.apilayer.com/exchangerates_data/latest?base=EUR&apikey=73qhjmN9pymxALkF0hD0h5ySe4nh7HNs\" #Make sure to change ******* to your API key."
   ]
  },
  {
   "cell_type": "code",
   "execution_count": 4,
   "metadata": {},
   "outputs": [
    {
     "data": {
      "text/plain": [
       "'{\\n    \"success\": true,\\n    \"timestamp\": 1662568384,\\n    \"base\": \"EUR\",\\n    \"date\": \"2022-09-07\",\\n   '"
      ]
     },
     "execution_count": 4,
     "metadata": {},
     "output_type": "execute_result"
    }
   ],
   "source": [
    "html_data = requests.get(url).text\n",
    "html_data[:100]"
   ]
  },
  {
   "cell_type": "code",
   "execution_count": 5,
   "metadata": {},
   "outputs": [
    {
     "data": {
      "text/plain": [
       "{'success': True,\n",
       " 'timestamp': 1662568384,\n",
       " 'base': 'EUR',\n",
       " 'date': '2022-09-07',\n",
       " 'rates': {'AED': 3.65638,\n",
       "  'AFN': 89.841688,\n",
       "  'ALL': 118.411026,\n",
       "  'AMD': 403.12729,\n",
       "  'ANG': 1.79468,\n",
       "  'AOA': 427.194262,\n",
       "  'ARS': 140.171573,\n",
       "  'AUD': 1.480215,\n",
       "  'AWG': 1.796824,\n",
       "  'AZN': 1.705501,\n",
       "  'BAM': 1.96789,\n",
       "  'BBD': 2.010712,\n",
       "  'BDT': 94.630922,\n",
       "  'BGN': 1.956786,\n",
       "  'BHD': 0.375183,\n",
       "  'BIF': 2038.723553,\n",
       "  'BMD': 0.99547,\n",
       "  'BND': 1.402724,\n",
       "  'BOB': 6.881378,\n",
       "  'BRL': 5.224725,\n",
       "  'BSD': 0.995797,\n",
       "  'BTC': 5.2720726e-05,\n",
       "  'BTN': 79.536316,\n",
       "  'BWP': 12.983335,\n",
       "  'BYN': 2.513604,\n",
       "  'BYR': 19511.2215,\n",
       "  'BZD': 2.007342,\n",
       "  'CAD': 1.311781,\n",
       "  'CDF': 2015.827171,\n",
       "  'CHF': 0.976019,\n",
       "  'CLF': 0.031982,\n",
       "  'CLP': 882.277577,\n",
       "  'CNY': 6.934549,\n",
       "  'COP': 4411.517045,\n",
       "  'CRC': 652.837467,\n",
       "  'CUC': 0.99547,\n",
       "  'CUP': 26.379968,\n",
       "  'CVE': 111.095497,\n",
       "  'CZK': 24.606436,\n",
       "  'DJF': 176.902514,\n",
       "  'DKK': 7.43706,\n",
       "  'DOP': 52.759542,\n",
       "  'DZD': 139.726936,\n",
       "  'EGP': 19.181124,\n",
       "  'ERN': 14.932057,\n",
       "  'ETB': 52.25847,\n",
       "  'EUR': 1,\n",
       "  'FJD': 2.232591,\n",
       "  'FKP': 0.819874,\n",
       "  'GBP': 0.866801,\n",
       "  'GEL': 2.986922,\n",
       "  'GGP': 0.819874,\n",
       "  'GHS': 9.905011,\n",
       "  'GIP': 0.819874,\n",
       "  'GMD': 54.402613,\n",
       "  'GNF': 8660.593474,\n",
       "  'GTQ': 7.727657,\n",
       "  'GYD': 208.353117,\n",
       "  'HKD': 7.814294,\n",
       "  'HNL': 24.418932,\n",
       "  'HRK': 7.514844,\n",
       "  'HTG': 117.008883,\n",
       "  'HUF': 397.685499,\n",
       "  'IDR': 14844.754509,\n",
       "  'ILS': 3.414832,\n",
       "  'IMP': 0.819874,\n",
       "  'INR': 79.43506,\n",
       "  'IQD': 1453.386908,\n",
       "  'IRR': 42108.401385,\n",
       "  'ISK': 140.729614,\n",
       "  'JEP': 0.819874,\n",
       "  'JMD': 149.375409,\n",
       "  'JOD': 0.706585,\n",
       "  'JPY': 143.615029,\n",
       "  'KES': 119.80526,\n",
       "  'KGS': 80.967885,\n",
       "  'KHR': 4095.860899,\n",
       "  'KMF': 495.43575,\n",
       "  'KPW': 895.923785,\n",
       "  'KRW': 1374.520702,\n",
       "  'KWD': 0.307909,\n",
       "  'KYD': 0.829877,\n",
       "  'KZT': 472.072978,\n",
       "  'LAK': 15668.705501,\n",
       "  'LBP': 1510.128591,\n",
       "  'LKR': 358.507222,\n",
       "  'LRD': 153.153008,\n",
       "  'LSL': 17.374741,\n",
       "  'LTL': 2.939365,\n",
       "  'LVL': 0.60215,\n",
       "  'LYD': 4.927397,\n",
       "  'MAD': 9.391767,\n",
       "  'MDL': 19.319193,\n",
       "  'MGA': 4111.293297,\n",
       "  'MKD': 61.99586,\n",
       "  'MMK': 2091.291156,\n",
       "  'MNT': 3180.489936,\n",
       "  'MOP': 8.051805,\n",
       "  'MRO': 355.382792,\n",
       "  'MUR': 43.792795,\n",
       "  'MVR': 15.340163,\n",
       "  'MWK': 1016.086864,\n",
       "  'MXN': 19.953606,\n",
       "  'MYR': 4.481643,\n",
       "  'MZN': 63.540796,\n",
       "  'NAD': 15.03123,\n",
       "  'NGN': 424.180092,\n",
       "  'NIO': 35.816742,\n",
       "  'NOK': 9.998038,\n",
       "  'NPR': 127.258427,\n",
       "  'NZD': 1.650107,\n",
       "  'OMR': 0.383302,\n",
       "  'PAB': 0.995797,\n",
       "  'PEN': 3.716591,\n",
       "  'PGK': 3.503941,\n",
       "  'PHP': 56.839341,\n",
       "  'PKR': 223.234024,\n",
       "  'PLN': 4.720552,\n",
       "  'PYG': 6871.943908,\n",
       "  'QAR': 3.62451,\n",
       "  'RON': 4.857401,\n",
       "  'RSD': 117.34596,\n",
       "  'RUB': 60.673697,\n",
       "  'RWF': 1031.805157,\n",
       "  'SAR': 3.741134,\n",
       "  'SBD': 8.16975,\n",
       "  'SCR': 14.374436,\n",
       "  'SDG': 442.98469,\n",
       "  'SEK': 10.699415,\n",
       "  'SGD': 1.400425,\n",
       "  'SHP': 1.371158,\n",
       "  'SLL': 11502.66125,\n",
       "  'SOS': 565.92742,\n",
       "  'SRD': 26.142547,\n",
       "  'STD': 20604.229186,\n",
       "  'SVC': 8.713354,\n",
       "  'SYP': 2501.149825,\n",
       "  'SZL': 15.032224,\n",
       "  'THB': 36.404181,\n",
       "  'TJS': 10.172439,\n",
       "  'TMT': 3.484147,\n",
       "  'TND': 3.23474,\n",
       "  'TOP': 2.364443,\n",
       "  'TRY': 18.144835,\n",
       "  'TTD': 6.745001,\n",
       "  'TWD': 30.749583,\n",
       "  'TZS': 2321.436917,\n",
       "  'UAH': 36.771243,\n",
       "  'UGX': 3794.170656,\n",
       "  'USD': 0.99547,\n",
       "  'UYU': 40.565186,\n",
       "  'UZS': 10935.2432,\n",
       "  'VND': 23483.148734,\n",
       "  'VUV': 115.530401,\n",
       "  'WST': 2.655378,\n",
       "  'XAF': 660.014992,\n",
       "  'XAG': 0.05454,\n",
       "  'XAU': 0.000582,\n",
       "  'XCD': 2.690309,\n",
       "  'XDR': 0.768827,\n",
       "  'XOF': 675.884845,\n",
       "  'XPF': 105.519982,\n",
       "  'YER': 249.11626,\n",
       "  'ZAR': 17.26347,\n",
       "  'ZMK': 8960.427243,\n",
       "  'ZMW': 15.360734,\n",
       "  'ZWL': 320.54109}}"
      ]
     },
     "execution_count": 5,
     "metadata": {},
     "output_type": "execute_result"
    }
   ],
   "source": [
    "html_data = requests.get(url)\n",
    "html_data.json()"
   ]
  },
  {
   "cell_type": "markdown",
   "metadata": {},
   "source": [
    "### Save as DataFrame\n",
    "\n",
    "<b> Question 2</b>  Using the data gathered turn it into a `pandas` dataframe. The dataframe should have the Currency as the index and `Rate` as their columns. Make sure to drop unnecessary columns.\n"
   ]
  },
  {
   "cell_type": "code",
   "execution_count": 6,
   "metadata": {},
   "outputs": [
    {
     "data": {
      "text/html": [
       "<div>\n",
       "<style scoped>\n",
       "    .dataframe tbody tr th:only-of-type {\n",
       "        vertical-align: middle;\n",
       "    }\n",
       "\n",
       "    .dataframe tbody tr th {\n",
       "        vertical-align: top;\n",
       "    }\n",
       "\n",
       "    .dataframe thead th {\n",
       "        text-align: right;\n",
       "    }\n",
       "</style>\n",
       "<table border=\"1\" class=\"dataframe\">\n",
       "  <thead>\n",
       "    <tr style=\"text-align: right;\">\n",
       "      <th></th>\n",
       "      <th>success</th>\n",
       "      <th>timestamp</th>\n",
       "      <th>base</th>\n",
       "      <th>date</th>\n",
       "      <th>rates</th>\n",
       "    </tr>\n",
       "  </thead>\n",
       "  <tbody>\n",
       "    <tr>\n",
       "      <th>AED</th>\n",
       "      <td>True</td>\n",
       "      <td>1662568384</td>\n",
       "      <td>EUR</td>\n",
       "      <td>2022-09-07</td>\n",
       "      <td>3.656380</td>\n",
       "    </tr>\n",
       "    <tr>\n",
       "      <th>AFN</th>\n",
       "      <td>True</td>\n",
       "      <td>1662568384</td>\n",
       "      <td>EUR</td>\n",
       "      <td>2022-09-07</td>\n",
       "      <td>89.841688</td>\n",
       "    </tr>\n",
       "    <tr>\n",
       "      <th>ALL</th>\n",
       "      <td>True</td>\n",
       "      <td>1662568384</td>\n",
       "      <td>EUR</td>\n",
       "      <td>2022-09-07</td>\n",
       "      <td>118.411026</td>\n",
       "    </tr>\n",
       "    <tr>\n",
       "      <th>AMD</th>\n",
       "      <td>True</td>\n",
       "      <td>1662568384</td>\n",
       "      <td>EUR</td>\n",
       "      <td>2022-09-07</td>\n",
       "      <td>403.127290</td>\n",
       "    </tr>\n",
       "    <tr>\n",
       "      <th>ANG</th>\n",
       "      <td>True</td>\n",
       "      <td>1662568384</td>\n",
       "      <td>EUR</td>\n",
       "      <td>2022-09-07</td>\n",
       "      <td>1.794680</td>\n",
       "    </tr>\n",
       "  </tbody>\n",
       "</table>\n",
       "</div>"
      ],
      "text/plain": [
       "     success   timestamp base        date       rates\n",
       "AED     True  1662568384  EUR  2022-09-07    3.656380\n",
       "AFN     True  1662568384  EUR  2022-09-07   89.841688\n",
       "ALL     True  1662568384  EUR  2022-09-07  118.411026\n",
       "AMD     True  1662568384  EUR  2022-09-07  403.127290\n",
       "ANG     True  1662568384  EUR  2022-09-07    1.794680"
      ]
     },
     "execution_count": 6,
     "metadata": {},
     "output_type": "execute_result"
    }
   ],
   "source": [
    "# Turn the data into a dataframe\n",
    "currency_df = pd.DataFrame(html_data.json())\n",
    "currency_df.head()"
   ]
  },
  {
   "cell_type": "code",
   "execution_count": 7,
   "metadata": {},
   "outputs": [
    {
     "data": {
      "text/html": [
       "<div>\n",
       "<style scoped>\n",
       "    .dataframe tbody tr th:only-of-type {\n",
       "        vertical-align: middle;\n",
       "    }\n",
       "\n",
       "    .dataframe tbody tr th {\n",
       "        vertical-align: top;\n",
       "    }\n",
       "\n",
       "    .dataframe thead th {\n",
       "        text-align: right;\n",
       "    }\n",
       "</style>\n",
       "<table border=\"1\" class=\"dataframe\">\n",
       "  <thead>\n",
       "    <tr style=\"text-align: right;\">\n",
       "      <th></th>\n",
       "      <th>rates</th>\n",
       "    </tr>\n",
       "  </thead>\n",
       "  <tbody>\n",
       "    <tr>\n",
       "      <th>AED</th>\n",
       "      <td>3.656380</td>\n",
       "    </tr>\n",
       "    <tr>\n",
       "      <th>AFN</th>\n",
       "      <td>89.841688</td>\n",
       "    </tr>\n",
       "    <tr>\n",
       "      <th>ALL</th>\n",
       "      <td>118.411026</td>\n",
       "    </tr>\n",
       "    <tr>\n",
       "      <th>AMD</th>\n",
       "      <td>403.127290</td>\n",
       "    </tr>\n",
       "    <tr>\n",
       "      <th>ANG</th>\n",
       "      <td>1.794680</td>\n",
       "    </tr>\n",
       "  </tbody>\n",
       "</table>\n",
       "</div>"
      ],
      "text/plain": [
       "          rates\n",
       "AED    3.656380\n",
       "AFN   89.841688\n",
       "ALL  118.411026\n",
       "AMD  403.127290\n",
       "ANG    1.794680"
      ]
     },
     "execution_count": 7,
     "metadata": {},
     "output_type": "execute_result"
    }
   ],
   "source": [
    "# Drop unnescessary columns\n",
    "currency_df.drop(['success','timestamp','date','base'], axis = 1, inplace = True)\n",
    "currency_df.head()"
   ]
  },
  {
   "cell_type": "markdown",
   "metadata": {},
   "source": [
    "### Load the Data\n",
    "\n",
    "Using the dataframe save it as a CSV names `exchange_rates_1.csv`.\n"
   ]
  },
  {
   "cell_type": "code",
   "execution_count": 8,
   "metadata": {},
   "outputs": [],
   "source": [
    "# Save the Dataframe\n",
    "currency_df.to_csv('Currency_DF.csv')"
   ]
  },
  {
   "cell_type": "markdown",
   "metadata": {},
   "source": [
    "Your CSV should be in this format with more currencies\n",
    "\n",
    "|     | Rates      |\n",
    "| --- | ---------- |\n",
    "| AED | 4.398618   |\n",
    "| AFN | 92.917693  |\n",
    "| ALL | 123.099093 |\n",
    "| AMD | 621.935674 |\n",
    "| ANG | 2.149648   |\n"
   ]
  },
  {
   "cell_type": "markdown",
   "metadata": {},
   "source": [
    "## Authors\n"
   ]
  },
  {
   "cell_type": "markdown",
   "metadata": {},
   "source": [
    "Ramesh Sannareddy, Joseph Santarcangelo and Azim Hirjani\n"
   ]
  },
  {
   "cell_type": "markdown",
   "metadata": {},
   "source": [
    "### Other Contributors\n"
   ]
  },
  {
   "cell_type": "markdown",
   "metadata": {},
   "source": [
    "Rav Ahuja\n"
   ]
  },
  {
   "cell_type": "markdown",
   "metadata": {},
   "source": [
    "## Change Log\n"
   ]
  },
  {
   "cell_type": "markdown",
   "metadata": {},
   "source": [
    "| Date (YYYY-MM-DD) | Version | Changed By        | Change Description                              |\n",
    "| ----------------- | ------- | ----------------- | ----------------------------------------------- |\n",
    "| 2022-05-06        | 0.3     | Malika            | Updated instructions to get the API and the url |\n",
    "| 2021-04-15        | 0.2     | Malika            | Updated the lab from USD to EUR                 |\n",
    "| 2020-11-25        | 0.1     | Ramesh Sannareddy | Created initial version of the lab              |\n"
   ]
  },
  {
   "cell_type": "markdown",
   "metadata": {},
   "source": [
    "Copyright © 2020 IBM Corporation. This notebook and its source code are released under the terms of the [MIT License](https://cognitiveclass.ai/mit-license?utm_medium=Exinfluencer&utm_source=Exinfluencer&utm_content=000026UJ&utm_term=10006555&utm_id=NA-SkillsNetwork-Channel-SkillsNetworkCoursesIBMDeveloperSkillsNetworkPY0221ENSkillsNetwork23455645-2022-01-01&cm_mmc=Email_Newsletter-\\_-Developer_Ed%2BTech-\\_-WW_WW-\\_-SkillsNetwork-Courses-IBM-DA0321EN-SkillsNetwork-21426264&cm_mmca1=000026UJ&cm_mmca2=10006555&cm_mmca3=M12345678&cvosrc=email.Newsletter.M12345678&cvo_campaign=000026UJ).\n"
   ]
  }
 ],
 "metadata": {
  "kernelspec": {
   "display_name": "Python 3 (ipykernel)",
   "language": "python",
   "name": "python3"
  },
  "language_info": {
   "codemirror_mode": {
    "name": "ipython",
    "version": 3
   },
   "file_extension": ".py",
   "mimetype": "text/x-python",
   "name": "python",
   "nbconvert_exporter": "python",
   "pygments_lexer": "ipython3",
   "version": "3.9.12"
  }
 },
 "nbformat": 4,
 "nbformat_minor": 4
}
